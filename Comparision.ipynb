{
  "nbformat": 4,
  "nbformat_minor": 0,
  "metadata": {
    "kernelspec": {
      "language": "python",
      "display_name": "Python 3",
      "name": "python3"
    },
    "language_info": {
      "pygments_lexer": "ipython3",
      "nbconvert_exporter": "python",
      "version": "3.6.4",
      "file_extension": ".py",
      "codemirror_mode": {
        "name": "ipython",
        "version": 3
      },
      "name": "python",
      "mimetype": "text/x-python"
    },
    "colab": {
      "name": "Comparision.ipynb",
      "provenance": [],
      "collapsed_sections": []
    }
  },
  "cells": [
    {
      "cell_type": "markdown",
      "metadata": {
        "id": "53NaiE00WSQX"
      },
      "source": [
        "# Libraries"
      ]
    },
    {
      "cell_type": "code",
      "metadata": {
        "id": "8vHC-41dYA2P",
        "colab": {
          "base_uri": "https://localhost:8080/"
        },
        "outputId": "20111699-b1e8-44e8-8d6a-b1e821b2b64c"
      },
      "source": [
        "pip install geopandas"
      ],
      "execution_count": null,
      "outputs": [
        {
          "output_type": "stream",
          "name": "stdout",
          "text": [
            "Requirement already satisfied: geopandas in /usr/local/lib/python3.7/dist-packages (0.10.1)\n",
            "Requirement already satisfied: shapely>=1.6 in /usr/local/lib/python3.7/dist-packages (from geopandas) (1.7.1)\n",
            "Requirement already satisfied: pyproj>=2.2.0 in /usr/local/lib/python3.7/dist-packages (from geopandas) (3.2.1)\n",
            "Requirement already satisfied: fiona>=1.8 in /usr/local/lib/python3.7/dist-packages (from geopandas) (1.8.20)\n",
            "Requirement already satisfied: pandas>=0.25.0 in /usr/local/lib/python3.7/dist-packages (from geopandas) (1.1.5)\n",
            "Requirement already satisfied: attrs>=17 in /usr/local/lib/python3.7/dist-packages (from fiona>=1.8->geopandas) (21.2.0)\n",
            "Requirement already satisfied: certifi in /usr/local/lib/python3.7/dist-packages (from fiona>=1.8->geopandas) (2021.5.30)\n",
            "Requirement already satisfied: six>=1.7 in /usr/local/lib/python3.7/dist-packages (from fiona>=1.8->geopandas) (1.15.0)\n",
            "Requirement already satisfied: setuptools in /usr/local/lib/python3.7/dist-packages (from fiona>=1.8->geopandas) (57.4.0)\n",
            "Requirement already satisfied: cligj>=0.5 in /usr/local/lib/python3.7/dist-packages (from fiona>=1.8->geopandas) (0.7.2)\n",
            "Requirement already satisfied: click>=4.0 in /usr/local/lib/python3.7/dist-packages (from fiona>=1.8->geopandas) (7.1.2)\n",
            "Requirement already satisfied: click-plugins>=1.0 in /usr/local/lib/python3.7/dist-packages (from fiona>=1.8->geopandas) (1.1.1)\n",
            "Requirement already satisfied: munch in /usr/local/lib/python3.7/dist-packages (from fiona>=1.8->geopandas) (2.5.0)\n",
            "Requirement already satisfied: pytz>=2017.2 in /usr/local/lib/python3.7/dist-packages (from pandas>=0.25.0->geopandas) (2018.9)\n",
            "Requirement already satisfied: python-dateutil>=2.7.3 in /usr/local/lib/python3.7/dist-packages (from pandas>=0.25.0->geopandas) (2.8.2)\n",
            "Requirement already satisfied: numpy>=1.15.4 in /usr/local/lib/python3.7/dist-packages (from pandas>=0.25.0->geopandas) (1.19.5)\n"
          ]
        }
      ]
    },
    {
      "cell_type": "code",
      "metadata": {
        "_uuid": "8f2839f25d086af736a60e9eeb907d3b93b6e0e5",
        "_cell_guid": "b1076dfc-b9ad-4769-8c92-a6c4dae69d19",
        "_kg_hide-input": true,
        "_kg_hide-output": true,
        "trusted": true,
        "id": "SskdgMdtWSQX"
      },
      "source": [
        "# utility libraries\n",
        "from datetime import timedelta\n",
        "import math\n",
        "\n",
        "# storing and anaysis\n",
        "import numpy as np\n",
        "import pandas as pd\n",
        "\n",
        "# visualization\n",
        "import matplotlib.pyplot as plt\n",
        "import matplotlib.dates as mdates\n",
        "import seaborn as sns\n",
        "import plotly.express as px"
      ],
      "execution_count": null,
      "outputs": []
    },
    {
      "cell_type": "code",
      "metadata": {
        "_kg_hide-input": true,
        "_kg_hide-output": true,
        "trusted": true,
        "id": "7GJFJsfrWSQZ"
      },
      "source": [
        "# network analysis and visualization\n",
        "import networkx as nx\n",
        "\n",
        "# to embed HTML objects\n",
        "\n",
        "# dealing with geographic data\n",
        "import geopandas as gpd\n",
        "from geopandas.tools import geocode\n",
        "\n",
        "# implicitly registered datetime converter for a matplotlib plotting method\n",
        "from pandas.plotting import register_matplotlib_converters\n",
        "register_matplotlib_converters()"
      ],
      "execution_count": null,
      "outputs": []
    },
    {
      "cell_type": "code",
      "metadata": {
        "_kg_hide-input": true,
        "_kg_hide-output": true,
        "trusted": true,
        "colab": {
          "base_uri": "https://localhost:8080/",
          "height": 17
        },
        "id": "boupnjIOWSQa",
        "outputId": "c7638be5-20ca-4adf-f0aa-d986d20ac562"
      },
      "source": [
        "# offline plotly\n",
        "from plotly.offline import plot, iplot, init_notebook_mode\n",
        "init_notebook_mode(connected=True)"
      ],
      "execution_count": null,
      "outputs": [
        {
          "output_type": "display_data",
          "data": {
            "text/html": [
              "        <script type=\"text/javascript\">\n",
              "        window.PlotlyConfig = {MathJaxConfig: 'local'};\n",
              "        if (window.MathJax) {MathJax.Hub.Config({SVG: {font: \"STIX-Web\"}});}\n",
              "        if (typeof require !== 'undefined') {\n",
              "        require.undef(\"plotly\");\n",
              "        requirejs.config({\n",
              "            paths: {\n",
              "                'plotly': ['https://cdn.plot.ly/plotly-latest.min']\n",
              "            }\n",
              "        });\n",
              "        require(['plotly'], function(Plotly) {\n",
              "            window._Plotly = Plotly;\n",
              "        });\n",
              "        }\n",
              "        </script>\n",
              "        "
            ]
          },
          "metadata": {}
        }
      ]
    },
    {
      "cell_type": "markdown",
      "metadata": {
        "id": "a5kG5IpVWSQd"
      },
      "source": [
        "### COVID-19 Dataset"
      ]
    },
    {
      "cell_type": "code",
      "metadata": {
        "_uuid": "d629ff2d2480ee46fbb7e2d37f6b5fab8052498a",
        "_cell_guid": "79c7e3d0-c299-4dcb-8224-4455121ee9b0",
        "_kg_hide-input": true,
        "_kg_hide-output": true,
        "trusted": true,
        "id": "_CaejRohWSQe",
        "colab": {
          "base_uri": "https://localhost:8080/"
        },
        "outputId": "35a6ead7-cb47-4100-91ff-97562914e529"
      },
      "source": [
        "# covid_19 dataset\n",
        "covid_19 = pd.read_csv('/content/country_wise_latest.csv', \n",
        "                       parse_dates=['Date'])\n",
        "\n",
        "# selecting important columns only\n",
        "covid_19 = covid_19[['Date', 'Country/Region', 'Confirmed', 'Deaths', 'Recovered']]\n",
        "\n",
        "# renaming columns\n",
        "covid_19.columns = ['Date', 'Country', 'Cases', 'Deaths', 'Recovered']\n",
        "\n",
        "# group by date and country\n",
        "covid_19 = covid_19.groupby(['Date', 'Country'])['Cases', 'Deaths', 'Recovered']\n",
        "covid_19 = covid_19.sum().reset_index()\n",
        "\n",
        "#covid_19.head()"
      ],
      "execution_count": null,
      "outputs": [
        {
          "output_type": "stream",
          "name": "stderr",
          "text": [
            "/usr/local/lib/python3.7/dist-packages/IPython/core/interactiveshell.py:2718: DtypeWarning:\n",
            "\n",
            "Columns (0,17) have mixed types.Specify dtype option on import or set low_memory=False.\n",
            "\n",
            "/usr/local/lib/python3.7/dist-packages/ipykernel_launcher.py:12: FutureWarning:\n",
            "\n",
            "Indexing with multiple keys (implicitly converted to a tuple of keys) will be deprecated, use a list instead.\n",
            "\n"
          ]
        }
      ]
    },
    {
      "cell_type": "code",
      "metadata": {
        "_kg_hide-input": true,
        "_kg_hide-output": true,
        "trusted": true,
        "colab": {
          "base_uri": "https://localhost:8080/"
        },
        "id": "hJU18mFmWSQf",
        "outputId": "023bcc09-336f-47cc-c721-b4d820e008a0"
      },
      "source": [
        "# latest\n",
        "c_lat = covid_19[covid_19['Date'] == max(covid_19['Date'])].reset_index()\n",
        "\n",
        "# latest grouped by country\n",
        "c_lat_grp = c_lat.groupby('Country')['Cases', 'Deaths', 'Recovered'].sum().reset_index()\n",
        "\n",
        "# nth day\n",
        "covid_19['nth_day'] = (covid_19['Date'] - min(covid_19['Date'])).dt.days"
      ],
      "execution_count": null,
      "outputs": [
        {
          "output_type": "stream",
          "name": "stderr",
          "text": [
            "/usr/local/lib/python3.7/dist-packages/ipykernel_launcher.py:5: FutureWarning:\n",
            "\n",
            "Indexing with multiple keys (implicitly converted to a tuple of keys) will be deprecated, use a list instead.\n",
            "\n"
          ]
        }
      ]
    },
    {
      "cell_type": "code",
      "metadata": {
        "_kg_hide-input": true,
        "_kg_hide-output": true,
        "trusted": true,
        "colab": {
          "base_uri": "https://localhost:8080/"
        },
        "id": "3TxuRKYlWSQg",
        "outputId": "5ff7d3ba-c8dc-4e23-cfc9-2cc033b5e898"
      },
      "source": [
        "# day by day\n",
        "c_dbd = covid_19.groupby('Date')['Cases', 'Deaths', 'Recovered'].sum().reset_index()\n",
        "\n",
        "# nth day\n",
        "c_dbd['nth_day'] = covid_19.groupby('Date')['nth_day'].max().values\n",
        "\n",
        "# no. of countries\n",
        "temp = covid_19[covid_19['Cases']>0]\n",
        "c_dbd['n_countries'] = temp.groupby('Date')['Country'].apply(len).values\n",
        "\n",
        "c_dbd['new_cases'] = c_dbd['Cases'].diff()\n",
        "c_dbd['new_deaths'] = c_dbd['Deaths'].diff()\n",
        "c_dbd['epidemic'] = 'COVID-19'"
      ],
      "execution_count": null,
      "outputs": [
        {
          "output_type": "stream",
          "name": "stderr",
          "text": [
            "/usr/local/lib/python3.7/dist-packages/ipykernel_launcher.py:2: FutureWarning:\n",
            "\n",
            "Indexing with multiple keys (implicitly converted to a tuple of keys) will be deprecated, use a list instead.\n",
            "\n"
          ]
        }
      ]
    },
    {
      "cell_type": "markdown",
      "metadata": {
        "id": "I5gp7xZBWSQh"
      },
      "source": [
        "### ZikaDataset"
      ]
    },
    {
      "cell_type": "code",
      "metadata": {
        "_kg_hide-input": true,
        "_kg_hide-output": true,
        "trusted": true,
        "colab": {
          "base_uri": "https://localhost:8080/",
          "height": 272
        },
        "id": "AMTSlxtlWSQi",
        "outputId": "bd8f1705-e663-4758-b046-b33cc2ec14ec"
      },
      "source": [
        "# ZIKA dataset\n",
        "Zika = pd.read_csv(\"/content/zika_2014_2016_clean.csv\", \n",
        "                       parse_dates=['Date'])\n",
        "\n",
        "# selecting important columns only\n",
        "Zika = Zika[['Date', 'Country', \n",
        "                     'Cumulative no. of confirmed, probable and suspected cases',\n",
        "                     'Cumulative no. of confirmed, probable and suspected deaths']]\n",
        "\n",
        "# renaming columns\n",
        "Zika.columns = ['Date', 'Country', 'Cases', 'Deaths']\n",
        "Zika.head()\n",
        "\n",
        "# group by date and country\n",
        "Zika = Zika.groupby(['Date', 'Country'])['Cases', 'Deaths']\n",
        "Zika = Zika.sum().reset_index()\n",
        "\n",
        "# filling missing values\n",
        "Zika['Cases'] = Zika['Cases'].fillna(0)\n",
        "Zika['Deaths'] = Zika['Deaths'].fillna(0)\n",
        "\n",
        "# converting datatypes\n",
        "Zika['Cases'] = Zika['Cases'].astype('int')\n",
        "Zika['Deaths'] = Zika['Deaths'].astype('int')\n",
        "\n",
        "Zika.head()"
      ],
      "execution_count": null,
      "outputs": [
        {
          "output_type": "stream",
          "name": "stderr",
          "text": [
            "/usr/local/lib/python3.7/dist-packages/ipykernel_launcher.py:15: FutureWarning:\n",
            "\n",
            "Indexing with multiple keys (implicitly converted to a tuple of keys) will be deprecated, use a list instead.\n",
            "\n"
          ]
        },
        {
          "output_type": "execute_result",
          "data": {
            "text/html": [
              "<div>\n",
              "<style scoped>\n",
              "    .dataframe tbody tr th:only-of-type {\n",
              "        vertical-align: middle;\n",
              "    }\n",
              "\n",
              "    .dataframe tbody tr th {\n",
              "        vertical-align: top;\n",
              "    }\n",
              "\n",
              "    .dataframe thead th {\n",
              "        text-align: right;\n",
              "    }\n",
              "</style>\n",
              "<table border=\"1\" class=\"dataframe\">\n",
              "  <thead>\n",
              "    <tr style=\"text-align: right;\">\n",
              "      <th></th>\n",
              "      <th>Date</th>\n",
              "      <th>Country</th>\n",
              "      <th>Cases</th>\n",
              "      <th>Deaths</th>\n",
              "    </tr>\n",
              "  </thead>\n",
              "  <tbody>\n",
              "    <tr>\n",
              "      <th>0</th>\n",
              "      <td>2014-08-29</td>\n",
              "      <td>Guinea</td>\n",
              "      <td>648</td>\n",
              "      <td>430</td>\n",
              "    </tr>\n",
              "    <tr>\n",
              "      <th>1</th>\n",
              "      <td>2014-08-29</td>\n",
              "      <td>Liberia</td>\n",
              "      <td>1378</td>\n",
              "      <td>694</td>\n",
              "    </tr>\n",
              "    <tr>\n",
              "      <th>2</th>\n",
              "      <td>2014-08-29</td>\n",
              "      <td>Nigeria</td>\n",
              "      <td>19</td>\n",
              "      <td>7</td>\n",
              "    </tr>\n",
              "    <tr>\n",
              "      <th>3</th>\n",
              "      <td>2014-08-29</td>\n",
              "      <td>Sierra Leone</td>\n",
              "      <td>1026</td>\n",
              "      <td>422</td>\n",
              "    </tr>\n",
              "    <tr>\n",
              "      <th>4</th>\n",
              "      <td>2014-09-05</td>\n",
              "      <td>Guinea</td>\n",
              "      <td>812</td>\n",
              "      <td>517</td>\n",
              "    </tr>\n",
              "  </tbody>\n",
              "</table>\n",
              "</div>"
            ],
            "text/plain": [
              "        Date       Country  Cases  Deaths\n",
              "0 2014-08-29        Guinea    648     430\n",
              "1 2014-08-29       Liberia   1378     694\n",
              "2 2014-08-29       Nigeria     19       7\n",
              "3 2014-08-29  Sierra Leone   1026     422\n",
              "4 2014-09-05        Guinea    812     517"
            ]
          },
          "metadata": {},
          "execution_count": 34
        }
      ]
    },
    {
      "cell_type": "code",
      "metadata": {
        "_kg_hide-input": true,
        "_kg_hide-output": true,
        "trusted": true,
        "colab": {
          "base_uri": "https://localhost:8080/"
        },
        "id": "gfiI6Q5tWSQi",
        "outputId": "efaddc9f-122b-496a-bc19-eddee58a9670"
      },
      "source": [
        "# latest\n",
        "e_lat = Zika[Zika['Date'] == max(Zika['Date'])].reset_index()\n",
        "\n",
        "# latest grouped by country\n",
        "e_lat_grp = e_lat.groupby('Country')['Cases', 'Deaths'].sum().reset_index()\n",
        "\n",
        "# nth day\n",
        "Zika['nth_day'] = (Zika['Date'] - min(Zika['Date'])).dt.days"
      ],
      "execution_count": null,
      "outputs": [
        {
          "output_type": "stream",
          "name": "stderr",
          "text": [
            "/usr/local/lib/python3.7/dist-packages/ipykernel_launcher.py:5: FutureWarning:\n",
            "\n",
            "Indexing with multiple keys (implicitly converted to a tuple of keys) will be deprecated, use a list instead.\n",
            "\n"
          ]
        }
      ]
    },
    {
      "cell_type": "code",
      "metadata": {
        "_kg_hide-input": true,
        "_kg_hide-output": true,
        "trusted": true,
        "colab": {
          "base_uri": "https://localhost:8080/"
        },
        "id": "rIksfZAGWSQj",
        "outputId": "3a167df3-38e4-45ae-c3d4-550cd177cfa0"
      },
      "source": [
        "# day by day\n",
        "e_dbd = Zika.groupby('Date')['Cases', 'Deaths'].sum().reset_index()\n",
        "\n",
        "# nth day\n",
        "e_dbd['nth_day'] = Zika.groupby('Date')['nth_day'].max().values\n",
        "\n",
        "# no. of countries\n",
        "temp = Zika[Zika['Cases']>0]\n",
        "e_dbd['n_countries'] = temp.groupby('Date')['Country'].apply(len).values\n",
        "\n",
        "e_dbd['new_cases'] = e_dbd['Cases'].diff()\n",
        "e_dbd['new_deaths'] = e_dbd['Deaths'].diff()\n",
        "e_dbd['epidemic'] = 'ZIKA'"
      ],
      "execution_count": null,
      "outputs": [
        {
          "output_type": "stream",
          "name": "stderr",
          "text": [
            "/usr/local/lib/python3.7/dist-packages/ipykernel_launcher.py:2: FutureWarning:\n",
            "\n",
            "Indexing with multiple keys (implicitly converted to a tuple of keys) will be deprecated, use a list instead.\n",
            "\n"
          ]
        }
      ]
    },
    {
      "cell_type": "markdown",
      "metadata": {
        "trusted": true,
        "id": "7Le6sHUzWSQo"
      },
      "source": [
        "### Combined data"
      ]
    },
    {
      "cell_type": "code",
      "metadata": {
        "_kg_hide-input": true,
        "_kg_hide-output": true,
        "trusted": true,
        "id": "bSYztWBhWSQo"
      },
      "source": [
        "# name of the epidemic\n",
        "epidemic = ['COVID-19', 'MERS', 'SARS', 'Zika', 'H1N1']\n",
        "# no. of confirmed cases\n",
        "confirmed = [c_lat['Cases'].sum(), '2521', '8098', '28646', '491382']\n",
        "# no. of deaths reported\n",
        "deaths = [c_lat['Deaths'].sum(), '866', '774', '11323', '18449']\n",
        "# no. of recovered cases\n",
        "recovered = [c_lat['Recovered'].sum(), '', '', '', '']"
      ],
      "execution_count": null,
      "outputs": []
    },
    {
      "cell_type": "code",
      "metadata": {
        "_kg_hide-input": true,
        "_kg_hide-output": true,
        "trusted": true,
        "id": "if7HKTSUWSQo"
      },
      "source": [
        "# no. of countries or regions to which epidemic spread\n",
        "no_of_countries_or_region = ['216', '28', '29', '10', '214']\n",
        "# first reported place\n",
        "first_reported_place = ['Wuhan, China', 'Jeddah, Saudi Arabia', 'Foshan City, Guangdong, China', 'Meliandou, Guinea', 'Veracruz, Mexico']\n",
        "# first reported country\n",
        "first_reported_country = ['China', 'Saudi Arabia', 'China', 'Guinea', 'North America']"
      ],
      "execution_count": null,
      "outputs": []
    },
    {
      "cell_type": "code",
      "metadata": {
        "_kg_hide-input": true,
        "_kg_hide-output": true,
        "trusted": true,
        "id": "kuONvYMkWSQp"
      },
      "source": [
        "# first reported year\n",
        "first_reported_year = ['2019', '2012', '2002', '2014', '2009']\n",
        "# first reported data\n",
        "first_reported_date = ['8 December, 2019', 'June 13, 2012', 'November 16, 2002', 'March 23, 2014', 'April 18, 2009']\n",
        "# epidemic span\n",
        "span = ['2019-2020', '2012-Present', '2002-2004', '2014-2016', '2009-2010']\n",
        "\n",
        "# day on which no. of cases reached 100 \n",
        "date_100th_case = ['', 'July 22, 2013', '', '31 March, 2014', '28, April 2009']\n",
        "# day on which no. of cases reached 1000\n",
        "date_1000th_case = ['25 January, 2020', '3 December, 2014', '26 March, 2003', '23 July, 2014', '4 May, 2009 ']\n",
        "# day on which no. of cases reached 10000\n",
        "date_10000th_case = ['1 February 2020', '', '', '19 October, 2014', '20th May, 2009']\n",
        "# day on which no. of cases reached 100000\n",
        "date_100000th_case = ['6 March, 2020', '', '', '', '']"
      ],
      "execution_count": null,
      "outputs": []
    },
    {
      "cell_type": "code",
      "metadata": {
        "_kg_hide-input": true,
        "_kg_hide-output": true,
        "trusted": true,
        "id": "fBn0ZJAQWSQp"
      },
      "source": [
        "# estimated no. of people infected by a individual with diseases\n",
        "ro = ['2-2.5', '0.3-0.8', '2-4', '1.6-2', '1.2-1.6']\n",
        "\n",
        "# cases fatality rate\n",
        "cfr = ['1.38-3.4', '34.4-43', '9.6-11', '49-53', '0.05-0.1']\n"
      ],
      "execution_count": null,
      "outputs": []
    },
    {
      "cell_type": "code",
      "metadata": {
        "_kg_hide-input": true,
        "_kg_hide-output": true,
        "trusted": true,
        "id": "n7NyASviWSQp"
      },
      "source": [
        "# create a dataframe\n",
        "df = pd.DataFrame({'Epidemic' : epidemic, \n",
        "                   'Confirmed': confirmed, \n",
        "                   'Deaths': deaths, \n",
        "                   'Recovered': recovered, \n",
        "                   \n",
        "                   'No. of Countries': no_of_countries_or_region, \n",
        "                   'First Reported Place': first_reported_place, \n",
        "                   'First Reported Country': first_reported_country, \n",
        "                   \n",
        "                   'First Reported Year': first_reported_year, \n",
        "                   'First Reported Date': first_reported_date, \n",
        "                   '100th Case On': date_100th_case, \n",
        "                   '1000th Case On': date_1000th_case, \n",
        "                   '10000th Case On': date_10000th_case, \n",
        "                   '100000th Case On': date_100000th_case, \n",
        "                   'Ro': ro, \n",
        "                   'CFR': cfr, \n",
        "                   })\n",
        "    "
      ],
      "execution_count": null,
      "outputs": []
    },
    {
      "cell_type": "code",
      "metadata": {
        "_kg_hide-input": true,
        "_kg_hide-output": true,
        "trusted": true,
        "colab": {
          "base_uri": "https://localhost:8080/",
          "height": 394
        },
        "id": "_wX40jdpWSQq",
        "outputId": "3d368832-4148-4ccd-8698-92ab5d0389df"
      },
      "source": [
        "# fix numerical values\n",
        "for col in ['Confirmed', 'Deaths', 'Recovered', 'No. of Countries', \n",
        "            'First Reported Year']:\n",
        "    df[col] = df[col].replace('', 0)\n",
        "    df[col] = df[col].astype('int')\n",
        "    \n",
        "    \n",
        "# fix datetime values\n",
        "for col in ['First Reported Date', '100th Case On', '1000th Case On',\n",
        "            '10000th Case On', '100000th Case On']:\n",
        "    # df[col] = df[col].replace('', 0)\n",
        "    df[col] = pd.to_datetime(df[col])\n",
        "    \n",
        "    \n",
        "    \n",
        "# dataframe\n",
        "df"
      ],
      "execution_count": null,
      "outputs": [
        {
          "output_type": "execute_result",
          "data": {
            "text/html": [
              "<div>\n",
              "<style scoped>\n",
              "    .dataframe tbody tr th:only-of-type {\n",
              "        vertical-align: middle;\n",
              "    }\n",
              "\n",
              "    .dataframe tbody tr th {\n",
              "        vertical-align: top;\n",
              "    }\n",
              "\n",
              "    .dataframe thead th {\n",
              "        text-align: right;\n",
              "    }\n",
              "</style>\n",
              "<table border=\"1\" class=\"dataframe\">\n",
              "  <thead>\n",
              "    <tr style=\"text-align: right;\">\n",
              "      <th></th>\n",
              "      <th>Epidemic</th>\n",
              "      <th>Confirmed</th>\n",
              "      <th>Deaths</th>\n",
              "      <th>Recovered</th>\n",
              "      <th>No. of Countries</th>\n",
              "      <th>First Reported Place</th>\n",
              "      <th>First Reported Country</th>\n",
              "      <th>First Reported Year</th>\n",
              "      <th>First Reported Date</th>\n",
              "      <th>100th Case On</th>\n",
              "      <th>1000th Case On</th>\n",
              "      <th>10000th Case On</th>\n",
              "      <th>100000th Case On</th>\n",
              "      <th>Ro</th>\n",
              "      <th>CFR</th>\n",
              "    </tr>\n",
              "  </thead>\n",
              "  <tbody>\n",
              "    <tr>\n",
              "      <th>0</th>\n",
              "      <td>COVID-19</td>\n",
              "      <td>16480485</td>\n",
              "      <td>654036</td>\n",
              "      <td>9468087</td>\n",
              "      <td>216</td>\n",
              "      <td>Wuhan, China</td>\n",
              "      <td>China</td>\n",
              "      <td>2019</td>\n",
              "      <td>2019-12-08</td>\n",
              "      <td>NaT</td>\n",
              "      <td>2020-01-25</td>\n",
              "      <td>2020-02-01</td>\n",
              "      <td>2020-03-06</td>\n",
              "      <td>2-2.5</td>\n",
              "      <td>1.38-3.4</td>\n",
              "    </tr>\n",
              "    <tr>\n",
              "      <th>1</th>\n",
              "      <td>MERS</td>\n",
              "      <td>2521</td>\n",
              "      <td>866</td>\n",
              "      <td>0</td>\n",
              "      <td>28</td>\n",
              "      <td>Jeddah, Saudi Arabia</td>\n",
              "      <td>Saudi Arabia</td>\n",
              "      <td>2012</td>\n",
              "      <td>2012-06-13</td>\n",
              "      <td>2013-07-22</td>\n",
              "      <td>2014-12-03</td>\n",
              "      <td>NaT</td>\n",
              "      <td>NaT</td>\n",
              "      <td>0.3-0.8</td>\n",
              "      <td>34.4-43</td>\n",
              "    </tr>\n",
              "    <tr>\n",
              "      <th>2</th>\n",
              "      <td>SARS</td>\n",
              "      <td>8098</td>\n",
              "      <td>774</td>\n",
              "      <td>0</td>\n",
              "      <td>29</td>\n",
              "      <td>Foshan City, Guangdong, China</td>\n",
              "      <td>China</td>\n",
              "      <td>2002</td>\n",
              "      <td>2002-11-16</td>\n",
              "      <td>NaT</td>\n",
              "      <td>2003-03-26</td>\n",
              "      <td>NaT</td>\n",
              "      <td>NaT</td>\n",
              "      <td>2-4</td>\n",
              "      <td>9.6-11</td>\n",
              "    </tr>\n",
              "    <tr>\n",
              "      <th>3</th>\n",
              "      <td>Zika</td>\n",
              "      <td>28646</td>\n",
              "      <td>11323</td>\n",
              "      <td>0</td>\n",
              "      <td>10</td>\n",
              "      <td>Meliandou, Guinea</td>\n",
              "      <td>Guinea</td>\n",
              "      <td>2014</td>\n",
              "      <td>2014-03-23</td>\n",
              "      <td>2014-03-31</td>\n",
              "      <td>2014-07-23</td>\n",
              "      <td>2014-10-19</td>\n",
              "      <td>NaT</td>\n",
              "      <td>1.6-2</td>\n",
              "      <td>49-53</td>\n",
              "    </tr>\n",
              "    <tr>\n",
              "      <th>4</th>\n",
              "      <td>H1N1</td>\n",
              "      <td>491382</td>\n",
              "      <td>18449</td>\n",
              "      <td>0</td>\n",
              "      <td>214</td>\n",
              "      <td>Veracruz, Mexico</td>\n",
              "      <td>North America</td>\n",
              "      <td>2009</td>\n",
              "      <td>2009-04-18</td>\n",
              "      <td>2009-04-28</td>\n",
              "      <td>2009-05-04</td>\n",
              "      <td>2009-05-20</td>\n",
              "      <td>NaT</td>\n",
              "      <td>1.2-1.6</td>\n",
              "      <td>0.05-0.1</td>\n",
              "    </tr>\n",
              "  </tbody>\n",
              "</table>\n",
              "</div>"
            ],
            "text/plain": [
              "   Epidemic  Confirmed  Deaths  ...  100000th Case On       Ro       CFR\n",
              "0  COVID-19   16480485  654036  ...        2020-03-06    2-2.5  1.38-3.4\n",
              "1      MERS       2521     866  ...               NaT  0.3-0.8   34.4-43\n",
              "2      SARS       8098     774  ...               NaT      2-4    9.6-11\n",
              "3      Zika      28646   11323  ...               NaT    1.6-2     49-53\n",
              "4      H1N1     491382   18449  ...               NaT  1.2-1.6  0.05-0.1\n",
              "\n",
              "[5 rows x 15 columns]"
            ]
          },
          "metadata": {},
          "execution_count": 42
        }
      ]
    }
  ]
}